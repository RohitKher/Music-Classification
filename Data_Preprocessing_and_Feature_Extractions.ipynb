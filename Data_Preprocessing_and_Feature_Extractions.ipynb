{
  "nbformat": 4,
  "nbformat_minor": 0,
  "metadata": {
    "colab": {
      "name": "Data Preprocessing and Feature Extractions",
      "provenance": [],
      "collapsed_sections": []
    },
    "kernelspec": {
      "name": "python3",
      "display_name": "Python 3"
    },
    "language_info": {
      "name": "python"
    }
  },
  "cells": [
    {
      "cell_type": "markdown",
      "source": [
        "**DATA PREPROCESSING**\n",
        "*Creating folders and files directory structure according to needs*"
      ],
      "metadata": {
        "id": "M8WdFaYc7yEg"
      }
    },
    {
      "cell_type": "code",
      "execution_count": null,
      "metadata": {
        "id": "wZqMCES-61V7"
      },
      "outputs": [],
      "source": [
        "\n",
        "from pathlib import Path\n",
        "from sys import argv\n",
        "import os\n",
        "\n",
        "path = 'C:\\\\Users\\\\kherr\\\\Dalhousie\\\\Thesis\\\\data\\\\'\n",
        "\n",
        "for file in os.listdir(path):\n",
        "    print('Changing', file,'to')\n",
        "    os.rename(path + file, path + file.lower())\n",
        "    \n",
        "\n",
        "\n",
        "\n",
        "print('Downcases the names of all directories inside the current directory.DONE')\n",
        "\n",
        "for folders in os.listdir(path):\n",
        "    print(folders)\n",
        "    x=0\n",
        "    for file in os.listdir(path+folders):\n",
        "        print('Changing', file,'to')\n",
        "        dst=f\"{folders}\"\n",
        "        src =f\"{path+folders}/{file}\"  # foldername/filename, if .py file is outside folder\n",
        "        dst =f\"{path+folders}/{dst}_{x}.mid\"\n",
        "        os.rename(src, dst)\n",
        "        x=x+1\n",
        "\n",
        "print(\"NORMALIZING FOLDER NAMES DONE\")"
      ]
    },
    {
      "cell_type": "code",
      "source": [
        "from pathlib import Path\n",
        "from sys import argv\n",
        "from midi2audio import FluidSynth\n",
        "import subprocess\n",
        "import shlex\n",
        "import os\n",
        "from collections import defaultdict\n",
        "from mido import MidiFile\n",
        "from pydub import AudioSegment\n",
        "from pydub.generators import Sine\n",
        "\n",
        "\n",
        "path = 'C:\\\\Users\\\\kherr\\\\Dalhousie\\\\Thesis\\\\data\\\\'\n",
        "file1 = 'C:\\\\Users\\\\kherr\\\\Dalhousie\\\\Thesis\\\\data\\\\albeniz\\\\albeniz_0.mid'\n",
        "for folders in os.listdir(path):\n",
        "    #print(folders)\n",
        "    for file in os.listdir(path+folders):\n",
        "        print(\"file=\",file)\n",
        "        print(\"folder=\",folders)\n",
        "        print(\"path=\",path)\n",
        "        addr=Path(f'{path+folders}')\n",
        "        addr1=Path(f'{path+folders}/{file}')\n",
        "        print(\"addr=\",addr)\n",
        "        without_file_extension = Path(file).stem\n",
        "        resolved = Path(f'{path+folders}/{without_file_extension}')\n",
        "        print(resolved)\n",
        "        without_file_extension1 = resolved.name[:-4] \n",
        "        print(\"w\",without_file_extension)\n",
        "        "
      ],
      "metadata": {
        "id": "ByRfWVuR7EwA"
      },
      "execution_count": null,
      "outputs": []
    },
    {
      "cell_type": "code",
      "source": [
        "from pathlib import Path\n",
        "from sys import argv\n",
        "from midi2audio import FluidSynth\n",
        "import subprocess\n",
        "import shlex\n",
        "import os\n",
        "from collections import defaultdict\n",
        "from mido import MidiFile\n",
        "from pydub import AudioSegment\n",
        "from pydub.generators import Sine\n",
        "\n",
        "\n",
        "path = 'C:\\\\Users\\\\kherr\\\\Dalhousie\\\\Thesis\\\\data\\\\'\n",
        "file1 = 'C:\\\\Users\\\\kherr\\\\Dalhousie\\\\Thesis\\\\data\\\\albeniz\\\\albeniz_0.mid'\n",
        "for folders in os.listdir(path):\n",
        "    #print(folders)\n",
        "    for file in os.listdir(path+folders):\n",
        "        print(\"file=\",file)\n",
        "        print(\"folder=\",folders)\n",
        "        print(\"path=\",path)\n",
        "        addr=Path(f'{path+folders}')\n",
        "        addr1=Path(f'{path+folders}/{file}')\n",
        "        print(\"addr=\",addr)\n",
        "        without_file_extension = Path(file).stem\n",
        "        resolved = Path(f'{path+folders}/{without_file_extension}')\n",
        "        print(resolved)\n",
        "        without_file_extension1 = resolved.name[:-4] \n",
        "        print(\"w\",without_file_extension)\n",
        "        "
      ],
      "metadata": {
        "id": "4O6xF_t07Ome"
      },
      "execution_count": null,
      "outputs": []
    },
    {
      "cell_type": "markdown",
      "source": [
        "*MIDI files were converted WAV using some 3rd party software*"
      ],
      "metadata": {
        "id": "NM5cpIC98D05"
      }
    },
    {
      "cell_type": "markdown",
      "source": [
        "*GENERATING MEL SPECTROGRAMS FROM WAV FILES*"
      ],
      "metadata": {
        "id": "kP6-TLt18bZq"
      }
    },
    {
      "cell_type": "code",
      "source": [
        "from pathlib import Path\n",
        "from sys import argv\n",
        "from scipy import signal\n",
        "from scipy.io import wavfile\n",
        "import numpy as np\n",
        "import matplotlib.pyplot as plt\n",
        "import os\n",
        "\n",
        "import wave\n",
        "\n",
        "import pylab\n",
        "def graph_spectrogram(wav_file,address):\n",
        "    sound_info, frame_rate = get_wav_info(wav_file)\n",
        "    pylab.figure(num=None, figsize=(19, 12))\n",
        "    pylab.subplot(111)\n",
        "    pylab.title('spectrogram of %r' % wav_file)\n",
        "    pylab.specgram(sound_info, Fs=frame_rate)\n",
        "    pylab.savefig(f'{address}.png')\n",
        "    \n",
        "def get_wav_info(wav_file):\n",
        "    wav = wave.open(wav_file, 'r')\n",
        "    frames = wav.readframes(-1)\n",
        "    sound_info = pylab.fromstring(frames, 'int16')\n",
        "    frame_rate = wav.getframerate()\n",
        "    wav.close()\n",
        "    return sound_info, frame_rate\n",
        "\n",
        "path = 'C:\\\\Users\\\\kherr\\\\Dalhousie\\\\Thesis\\\\data\\\\'\n",
        "\n",
        "for folders in os.listdir(path):\n",
        "    print(folders)\n",
        "    for file in os.listdir(path+folders):\n",
        "        without_file_extension = Path(file).stem\n",
        "        resolved = Path(f'{path+folders}/{without_file_extension}')\n",
        "        if (Path(f'{resolved}.png').is_file() == False):\n",
        "            print('making spectro for', resolved)\n",
        "            graph_spectrogram(f'{resolved}.wav',f'{resolved}')\n",
        "            "
      ],
      "metadata": {
        "id": "u-Pu5qx78Zr9"
      },
      "execution_count": null,
      "outputs": []
    },
    {
      "cell_type": "code",
      "source": [
        "from pathlib import Path\n",
        "from sys import argv\n",
        "import os\n",
        "\n",
        "path = 'C:\\\\Users\\\\kherr\\\\Dalhousie\\\\Thesis\\\\data\\\\'\n",
        "spec= 'C:\\\\Users\\\\kherr\\\\Dalhousie\\\\Thesis\\\\Spectogram\\\\'\n",
        "\n",
        "for folders in os.listdir(path):\n",
        "    #print(folders)\n",
        "    x=0\n",
        "    for file in os.listdir(path+folders):\n",
        "        without_file_extension = Path(file).stem\n",
        "        resolved = Path(f'{path+folders}/{without_file_extension}')\n",
        "        ext = os.path.splitext(file)[-1].lower()\n",
        "        if (ext == \".wav\"):\n",
        "            dst=f\"{folders}\"\n",
        "            src =f\"{path+folders}\\{file}\"  # foldername/filename, if .py file is outside folder\n",
        "            dst =f\"{spec+folders}\\{dst}_{x}.png\"\n",
        "            x=x+1\n",
        "            print(\"LOOP\",x)\n",
        "            print(dst)\n",
        "            print(file)\n",
        "        \n",
        "        "
      ],
      "metadata": {
        "id": "xC9Hr_Um7PRV"
      },
      "execution_count": null,
      "outputs": []
    },
    {
      "cell_type": "markdown",
      "source": [
        "*GENERATING CHROMA FEATURES FROM WAV FILES*"
      ],
      "metadata": {
        "id": "wpPoKUMQ8jE3"
      }
    },
    {
      "cell_type": "code",
      "source": [
        "from pathlib import Path\n",
        "from sys import argv\n",
        "from scipy import signal\n",
        "from scipy.io import wavfile\n",
        "import numpy as np\n",
        "import matplotlib.pyplot as plt\n",
        "import os\n",
        "import librosa\n",
        "import librosa.display\n",
        "import wave\n",
        "\n",
        "import pylab\n",
        "def graph_chroma(wav_file,address):\n",
        "    print(\"Chroma for \",f'{address}.wav')\n",
        "    hop_length = 512\n",
        "    sound_info, frame_rate = get_wav_info(wav_file)\n",
        "    x, sr = librosa.load(f'{address}.wav')\n",
        "    chromagram = librosa.feature.chroma_stft(x, sr=sr, hop_length=hop_length)\n",
        "    fig, ax = plt.subplots(figsize=(15, 3))\n",
        "    img = librosa.display.specshow(chromagram, x_axis='time', y_axis='chroma', hop_length=hop_length, cmap='coolwarm')\n",
        "    fig.colorbar(img, ax=ax)\n",
        "    fig.savefig(f'{address}.png')\n",
        "    \n",
        "def get_wav_info(wav_file):\n",
        "    wav = wave.open(wav_file, 'r')\n",
        "    frames = wav.readframes(-1)\n",
        "    sound_info = pylab.fromstring(frames, 'int16')\n",
        "    frame_rate = wav.getframerate()\n",
        "    wav.close()\n",
        "    return sound_info, frame_rate\n",
        "\n",
        "path = 'C:\\\\Users\\\\kherr\\\\Dalhousie\\\\Thesis\\\\DataChroma\\\\'\n",
        "\n",
        "for folders in os.listdir(path):\n",
        "    print(folders)\n",
        "    for file in os.listdir(path+folders):\n",
        "        without_file_extension = Path(file).stem\n",
        "        resolved = Path(f'{path+folders}/{without_file_extension}')\n",
        "        if (Path(f'{resolved}.png').is_file() == False):\n",
        "            print('making spectro for', resolved)\n",
        "            graph_chroma(f'{resolved}.wav',f'{resolved}')"
      ],
      "metadata": {
        "id": "WK2jzj6z7YB_"
      },
      "execution_count": null,
      "outputs": []
    },
    {
      "cell_type": "markdown",
      "source": [
        "*GENERATING MFCCS FROM WAV FILES*"
      ],
      "metadata": {
        "id": "rvT6aUoa8r5t"
      }
    },
    {
      "cell_type": "code",
      "source": [
        "import librosa\n",
        "import librosa.display\n",
        "import pylab\n",
        "\n",
        "path = 'C:\\\\Users\\\\kherr\\\\Dalhousie\\\\Thesis\\\\data\\\\'\n",
        "mfcc='C:\\\\Users\\\\kherr\\\\Dalhousie\\\\Thesis\\\\MFCCS\\\\'\n",
        "for folders in os.listdir(path):\n",
        "    print(folders)\n",
        "    c=0\n",
        "    os.mkdir(f'{mfcc+folders}')\n",
        "    for file in os.listdir(path+folders):\n",
        "        without_file_extension = Path(file).stem\n",
        "        resolved = Path(f'{path+folders}/{without_file_extension}')\n",
        "        ext = os.path.splitext(file)[-1].lower()\n",
        "        if (ext == \".wav\"):\n",
        "            #print('making MFCC for', resolved)\n",
        "            #print(mfccs)\n",
        "            print(\"file=\",file)\n",
        "            dst=f\"{folders}\"\n",
        "            src =f\"{path+folders}\\{file}\"  # foldername/filename, if .py file is outside folder\n",
        "            dst =f\"{mfcc+folders}\\{dst}_{c}.png\"\n",
        "            #print(\"Value of x\",c)\n",
        "            print(\"LOOP\",c)\n",
        "            c=c+1\n",
        "            #print(resolved)\n",
        "            print(dst)\n",
        "            x, sr = librosa.load(f'{resolved}.wav')\n",
        "            print(\"loading\")\n",
        "            mfccs = librosa.feature.mfcc(x, sr=sr,n_mfcc=40)\n",
        "            print(\"making mfcc\")\n",
        "            librosa.display.specshow(mfccs, sr=sr, x_axis='time')\n",
        "            print(\"displaying mfcc\")\n",
        "            pylab.savefig(f'{dst}')\n",
        "            print(\"saving mfcc at\",f'{dst}')"
      ],
      "metadata": {
        "id": "5Wl_kvoK7ZIi"
      },
      "execution_count": null,
      "outputs": []
    }
  ]
}